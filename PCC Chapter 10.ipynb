{
 "cells": [
  {
   "cell_type": "markdown",
   "metadata": {},
   "source": [
    "# Chapter 10"
   ]
  },
  {
   "cell_type": "markdown",
   "metadata": {},
   "source": [
    "### 10-4: Guest Book\n",
    "\n",
    "Write a while loop that prompts users for their name. When they enter their name, print a greeting to the screen and add a line recording their visit in a file called guest_book.txt. Make sure each entry appears on a new line in the file."
   ]
  },
  {
   "cell_type": "code",
   "execution_count": null,
   "metadata": {
    "collapsed": false
   },
   "outputs": [],
   "source": [
    "\"\"\"Guest book\"\"\"\n",
    "\n",
    "filename = \"guest_book.txt\"\n",
    "\n",
    "print(\"Enter 'quit' when you are finished.\")\n",
    "while True:\n",
    "    name = str(input(\"\\nWhat's your name? \"))\n",
    "    if name == 'quit':\n",
    "        break\n",
    "    else:\n",
    "        with open(filename, 'a') as f:\n",
    "            f.write('Guest Name: '+ name + '\\n')\n",
    "            print('Welcome {}. You have been added to the guest book.'.format(name))"
   ]
  },
  {
   "cell_type": "markdown",
   "metadata": {},
   "source": [
    "### 10-5: Programming Poll\n",
    "\n",
    "Write a while loop that asks people why they like programming. Each time someone enters a reason, add their reason to a file that stores all the responses."
   ]
  },
  {
   "cell_type": "code",
   "execution_count": 2,
   "metadata": {
    "collapsed": false
   },
   "outputs": [
    {
     "name": "stdout",
     "output_type": "stream",
     "text": [
      "\n",
      "Why do you like programming? It's fun to learn new things\n",
      "Would you like someone else to add a response? (y/n)y\n",
      "\n",
      "Why do you like programming? there are many new things to learn\n",
      "Would you like someone else to add a response? (y/n)n\n"
     ]
    }
   ],
   "source": [
    "\"\"\"Programming Poll\"\"\"\n",
    "\n",
    "filename = \"programming_poll.txt\"\n",
    "responses = []\n",
    "\n",
    "while True:\n",
    "    response = input(\"\\nWhy do you like programming? \")\n",
    "    responses.append(response)\n",
    "    \n",
    "    continue_poll = input(\"Would you like someone else to add a response? (y/n)\")\n",
    "    if continue_poll != 'y':\n",
    "        break\n",
    "    \n",
    "with open(filename, 'a') as f:\n",
    "    for response in responses:\n",
    "        f.write(response + '\\n')\n",
    "    "
   ]
  },
  {
   "cell_type": "code",
   "execution_count": null,
   "metadata": {
    "collapsed": true
   },
   "outputs": [],
   "source": []
  }
 ],
 "metadata": {
  "kernelspec": {
   "display_name": "Python [py35_new]",
   "language": "python",
   "name": "Python [py35_new]"
  },
  "language_info": {
   "codemirror_mode": {
    "name": "ipython",
    "version": 3
   },
   "file_extension": ".py",
   "mimetype": "text/x-python",
   "name": "python",
   "nbconvert_exporter": "python",
   "pygments_lexer": "ipython3",
   "version": "3.5.2"
  }
 },
 "nbformat": 4,
 "nbformat_minor": 0
}
